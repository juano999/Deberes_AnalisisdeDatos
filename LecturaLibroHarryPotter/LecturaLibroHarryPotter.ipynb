{
 "cells": [
  {
   "cell_type": "code",
   "execution_count": 9,
   "id": "18596f62",
   "metadata": {},
   "outputs": [
    {
     "name": "stdout",
     "output_type": "stream",
     "text": [
      "Harry (1676)\n",
      "Potter (462)\n",
      "kid (8)\n"
     ]
    }
   ],
   "source": [
    "file=open(\"Book 1 - The Philosopher's Stone.txt\" , encoding='utf8')\n",
    "texto=file.read()\n",
    "print(\"Harry (\"+str(texto.count(\"Harry\"))+\")\")\n",
    "print(\"Potter (\"+str(texto.count(\"Potter\"))+\")\")\n",
    "print(\"kid (\"+str(texto.count(\"kid\"))+\")\")\n",
    "file.close()"
   ]
  },
  {
   "cell_type": "code",
   "execution_count": null,
   "id": "ec3dee24",
   "metadata": {},
   "outputs": [],
   "source": []
  }
 ],
 "metadata": {
  "kernelspec": {
   "display_name": "Python 3",
   "language": "python",
   "name": "python3"
  },
  "language_info": {
   "codemirror_mode": {
    "name": "ipython",
    "version": 3
   },
   "file_extension": ".py",
   "mimetype": "text/x-python",
   "name": "python",
   "nbconvert_exporter": "python",
   "pygments_lexer": "ipython3",
   "version": "3.9.5"
  }
 },
 "nbformat": 4,
 "nbformat_minor": 5
}
